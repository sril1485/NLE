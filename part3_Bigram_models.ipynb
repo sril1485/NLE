{
 "cells": [
  {
   "cell_type": "code",
   "execution_count": null,
   "metadata": {},
   "outputs": [],
   "source": [
    "import nltk\n",
    "#Reading the contents from the file\n",
    "f = open(\"sampletest.txt\", \"r\")\n",
    "samtext=f.read()\n",
    "v = open(\"sampledata.vocab.txt\", \"r\")\n",
    "voc=v.read()\n",
    "samt=samtext.replace('d',\"UNK\")\n",
    "samt=samt.replace('e',\"UNK\")\n",
    "lis1=samt.split(\"\\n\")\n",
    "#seperating into sentences from the string \n",
    "bitokens1=lis1[0].split(\" \")\n",
    "bitokens2=lis1[1].split(\" \")\n",
    "bitokens3=lis1[2].split(\" \")\n",
    "bitokens4=lis1[3].split(\" \")\n",
    "bitokens5=lis1[4].split(\" \")\n",
    "bitokens=bitokens1+bitokens2+bitokens3+bitokens4+bitokens5\n",
    "#Counting the frequency of tokens\n",
    "import collections\n",
    "from collections import Counter\n",
    "token_count=Counter(bitokens)\n",
    "print(token_count)\n",
    "x1=token_count['a']\n",
    "x2=token_count['b']\n",
    "x3=token_count['c']\n",
    "x4=token_count['UNK']\n",
    "x5=token_count['<s>']\n",
    "x6=token_count['</s>']\n",
    "count_of_tokens=[x1,x2,x3,x4,x5,x6]\n",
    "#Generating Bigrams\n",
    "from nltk import ngrams\n",
    "gram= ngrams(bitokens, 2)\n",
    "bigrams=list(gram)\n",
    "for i in range(0,len(bigrams)):\n",
    "    if bigrams[i]==('</s>', '<s>'):\n",
    "         bigrams[i]=\"-1\"\n",
    "bigrams.remove(\"-1\")\n",
    "bigrams.remove(\"-1\")\n",
    "bigrams.remove(\"-1\")\n",
    "bigrams.remove(\"-1\")\n",
    "print(bigrams)\n",
    "#Counting the frequency of the bigrams\n",
    "import collections\n",
    "from collections import Counter\n",
    "biwordcounts = Counter(bigrams)\n",
    "count_of_bigrams=list(biwordcounts.values())\n",
    "labels=list(biwordcounts.keys())\n",
    "count_of_bigrams\n",
    "labels\n",
    "denom=list()\n",
    "res = [lis[0] for lis in labels]\n",
    "denom=[token_count[i] for i in res]\n",
    "#Computing P(wi |wi−1) = count(wi−1,wi)/count(wi−1)\n",
    "prob=list()\n",
    "prob=[count_of_bigrams[i]/denom[i] for i in count_of_bigrams]\n",
    "print(prob)"
   ]
  }
 ],
 "metadata": {
  "kernelspec": {
   "display_name": "Python 3",
   "language": "python",
   "name": "python3"
  },
  "language_info": {
   "codemirror_mode": {
    "name": "ipython",
    "version": 3
   },
   "file_extension": ".py",
   "mimetype": "text/x-python",
   "name": "python",
   "nbconvert_exporter": "python",
   "pygments_lexer": "ipython3",
   "version": "3.7.3"
  }
 },
 "nbformat": 4,
 "nbformat_minor": 2
}
