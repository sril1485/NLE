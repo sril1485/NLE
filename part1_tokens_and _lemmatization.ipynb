{
 "cells": [
  {
   "cell_type": "code",
   "execution_count": null,
   "metadata": {},
   "outputs": [],
   "source": [
    "#nltk.download()\n",
    "import urllib.request\n",
    "response= urllib.request.urlopen(\"https://www.theguardian.com/music/2018/oct/19/while-my-guitar-gently-weeps-beatles-george-harrison\")\n",
    "html=response.read()\n",
    "newhtml= html.decode(\"utf-8\")\n",
    "from nltk import re\n",
    "m=re.findall(\"<p>(.*)</p>\",newhtml)\n",
    "m=str(m)\n",
    "#Remove html tags from a string\n",
    "def remove_html_tags(m):\n",
    "    \n",
    "    import re\n",
    "    clean = re.compile('<.*?>')\n",
    "    return re.sub(clean, '', m)\n",
    "m=remove_html_tags(m)\n",
    "m=m.lower()\n",
    "# remove punctucation and tokenize the contents\n",
    "from nltk.tokenize import RegexpTokenizer\n",
    "tokenizer = RegexpTokenizer(r'\\w+')\n",
    "tokens=tokenizer.tokenize(m)\n",
    "print(tokens),\n",
    "#uniques words or bag of words\n",
    "x=set(tokens)\n",
    "l=list(x)\n",
    "print(l),\n",
    "#lemmatize the words\n",
    "import nltk\n",
    "from nltk.stem import WordNetLemmatize\n",
    "lemmatizer = WordNetLemmatizer()\n",
    "lemmatized_words = [lemmatizer.lemmatize(x) for x in tokens]\n",
    "print (lemmatized_words)"
   ]
  }
 ],
 "metadata": {
  "kernelspec": {
   "display_name": "Python 3",
   "language": "python",
   "name": "python3"
  },
  "language_info": {
   "codemirror_mode": {
    "name": "ipython",
    "version": 3
   },
   "file_extension": ".py",
   "mimetype": "text/x-python",
   "name": "python",
   "nbconvert_exporter": "python",
   "pygments_lexer": "ipython3",
   "version": "3.6.5"
  }
 },
 "nbformat": 4,
 "nbformat_minor": 2
}
